print("Hello World!")
print("你好，世界！")
print("I love FishC")
print("I'm a programmer")
print('The girl said,"Learn coding on FishC."')





print(“你好”)


print("I love FishC')


print（"你好，世界"）





print('小甲鱼让我快乐！')


print("Hello World!")
print("你好，世界！")
#print("I love fishC")
print("I'm a programmer")
print('The girl said,"Learn coding on FishC."')





# 注释可以帮助你更好地阅读程序
# 在 # 后面的所有内容都将被Python忽略
print("我可以这么写代码。") # 这里的注释不会被解析

# 通过注释，我们可以阻止某些代码运行
# print("这段代码不会被执行。")

print("这段代码会被执行")








# 打印一段提示文字表示即将开始计算鸡的数量
print("现在我要开始数我的鸡鸡啦：")

# 计算母鸡的数量: 25 加上 30 除以 6 的结果, 并打印
print("母鸡",25 + 30 / 6)
# 计算公鸡的数量: 100 减去（25 乘以 3 再对 4 取模) 的结果并打印
print("公鸡",100 - 25 * 3 % 4)

# 打印一段提示文字表示即将开始计算鸡蛋的数量
print("现在我要开始数我的鸡蛋啦：")

# 计算鸡蛋的数量: 3 + 2 + 1 - 5 + (4 对 2 取模) - (1 除以 4) + 6, 并打印
print(3 + 2 + 1 - 5 + 4 % 2 - 1 / 4 + 6)

# 打印问题，询问逻辑表达式 3 + 2 < 5 - 7 是否成立
print("3 + 2 < 5 - 7 是对的吗？")

# 计算 3 + 2 < 5 - 7 的真假值，并打印结果哦
print( 3 + 2 < 5 - 7)

# 打印提示文字，询问 3 + 2 的结果，并计算和打印
print("3 + 2 是多少？", 3 + 2)
# 打印提示文字，询问 5 - 7 的结果，并计算和打印
print("5 - 7 是多少？", 5 - 7)

# 打印一句解释，说明为什么上面的逻辑表达式返回的是false
print("这就是为什么显示 false 的原因！")

# 打印提示，表示继续进行其他计算
print("让我们继续。")

# 打印问题，询问左边是否大于右边，并计算 5 > -2 的结果
print("左边大于右边吗？", 5 > -2)
# 打印问题，询问左边是否大于或等于右边，并计算 5 >= -2 的结果
print("左边大于或等于右边吗？", 5 >= -2)
# 打印问题，询问左边是否小于或等于右边，并计算 5 <= -2 的结果
print("左边小于或等于右边吗？", 5 <= -2)





# 加法
print("加法：5 + 3 =",5 + 3)

# 减法
print("减法： 10 - 7 =",10 - 7)

# 乘法
print("乘法：4 * 6 =",4 * 6)

#除法
print("除法：20 / 4 =",20 / 4)
print("除法：7 / 3 =", 7 / 3)





# 取整除（整除结果，去掉小数部分）
print("取整除：7 // 3 = ",7 // 3)

# 取余数（模运算）
print("取余数：7 % 3 = ", 7 % 3)





# 幂运算（2 的 3 次方）
print("幂运算：2 ** 3 =",2 ** 3)

# 平方根（通过幂运算实现 9 的平方根）
print("平方根：9 ** 0.5 =",9 ** 0.5)





# 混合运算，优先级：括号 > 幂 > 乘/除/取模 > 加减
print("复杂表达式：(3 + 5) * 2 =",(3 + 5) * 2)
print("复杂表达式：5 + 2 ** 3 * 2 =", 5 + 2 ** 3 * 2)





# 浮点数加减乘除
print("浮点数加法：0.1 + 0.6 =",0.1 + 0.6)
print("浮点数乘法：1.5 * 3.2 = ",1.5 * 3.2)

# 注意浮点数精度问题（如 0.1 + 0.2 不等于 0.3）
print("精度问题：0.1 + 0.2 =",0.1 + 0.2)





# 大于、小于、大于等于、小于等于、等于、不等于
print("5 > 3 =",5 > 3)   # True
print("5 < 3 =",5 < 3)   # False
print("5 >= 5 =",5 >= 5) # True
print("5 <= 4 =",5 <= 4) # False
print("5 == 5 =",5 == 5) # True
print("5 != 3 =",5 != 3) # True








# 变量 cars，用于记录小汽车的数量设定为 100 辆。
cars = 100
# 变量 space_in_a_car，用于记录每辆车的载客容量，设定为 4 人。
space_in_a_car = 4
# 变量 drivers，用于记录司机的数量，设定为 30 人。
drivers = 30
# 变量passengers，用于记录乘客的数量，设定为 90 人。
passengers = 90
# 计算没有司机驾驶的车辆数，将结果赋值给变量cars_not_driven
cars_not_driven = cars - drivers
# 表示实际被驾驶的车辆数，因为每辆车需要一个司机，所以等于司机数量
cars_driven = drivers 
# 计算所有可驾驶车辆的总载客容量，将结果赋值给变量carpool_capacity
carpool_capacity = cars_driven * space_in_a_car
# 计算每辆车需要安排的平均乘客数将结果赋值给变量average_passengers_per_car
average_passengers_per_car = passengers / cars_driven

print("这里有",cars,"辆小汽车。")
print("这里有", drivers,"位司机。")
print("那么今天就会有",cars_not_driven,"辆车没有司机。")
print("我们今天可以运送",carpool_capacity,"名乘客。")
print("我们今天总共有", passengers,"名乘客。")
print("我们需要在每辆车中安排",average_passengers_per_car,"名乘客。")





my_name = 'Zed A. Shaw'
my_age = 35 # 真的，没骗你
my_height = 74 # 英寸
my_weight = 180 # 磅
my_eyes = '蓝色'
my_teeth = '白色'
my_hair = '棕色'

print(f"让我们来谈谈{my_name}。")
print(f"他的身高是{my_height}英寸。")
print(f"他的体重是{my_weight}磅。")
print(f"实际上并不算太重。")
print(f"他的眼睛是 {my_eyes} 的，他的头发是 {my_hair} 的。")
print(f"他的牙齿通常是 {my_teeth} 的，这取决于他喝了多少咖啡。")

# 下面这一行代码比较难，请尝试理解它
total = my_age + my_height + my_weight
print(f"如果我把{my_age}、{my_height}、{my_weight}加起来，我会得到{total}。")





# 定义一个变量,表示有多少种类型的人(赋值为10)
types_of_people = 10
# 使用 f 字符串格式化,将变量 types_of_peole 插入到字符串中
x = f"这世界有{types_of_people}种人。"

# 定义两个字符串变量,分别是 "二进制" 和 "不懂"
binary = "二进制"
do_not = '不懂'

# 使用 f 字符串格式化,将变量 binary 和 do_not 插入到字符串中
y = f"那些懂{binary}和那些{do_not}的人。"

# 输出变量 x 的内容
print(x)

# 输出变量 y 的内容
print(y)

# 使用 f 字符串格式化,将变量 x 插入到字符串中并输出
print(f"我说过：{x}")

# 同样使用 f 字符串格式化,将变量 y 插入到字符串中并输出
print(f"我还说过：{y}")

# 定义一个布尔变量,表示笑话是否好笑(赋值为 False)
hilarious = False

# 定义一个字符串模板,其中包含一个占位符 {}
joke_evaluation = "这个笑话好笑吗！{}"

# 使用 format 方法，将变量 hilarious 的值插入到占位符中并输出
print(joke_evaluation.format(hilarious))

# 定义两个字符串变量，分别表示字符串的左部分和右部分
w = '这是字符串的左边'
e = '这是字符串的右边'

# 将两个字符串通过加号连接起来并输出
print(w + e)




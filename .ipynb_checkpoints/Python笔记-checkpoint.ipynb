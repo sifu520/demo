{
 "cells": [
  {
   "cell_type": "code",
   "execution_count": 1,
   "id": "054f9ec8-5c31-46ff-8e8c-ea96c098f1a1",
   "metadata": {},
   "outputs": [
    {
     "name": "stdout",
     "output_type": "stream",
     "text": [
      "Hello World!\n",
      "你好，世界！\n",
      "I love FishC\n",
      "I'm a programmer\n",
      "The girl said,\"Learn coding on FishC.\"\n"
     ]
    }
   ],
   "source": [
    "print(\"Hello World!\")\n",
    "print(\"你好，世界！\")\n",
    "print(\"I love FishC\")\n",
    "print(\"I'm a programmer\")\n",
    "print('The girl said,\"Learn coding on FishC.\"')"
   ]
  },
  {
   "cell_type": "markdown",
   "id": "cdd36547-a8e7-474f-a5c5-9f56452f65f3",
   "metadata": {},
   "source": [
    "## 常见错误示范"
   ]
  },
  {
   "cell_type": "code",
   "execution_count": 2,
   "id": "83d54d70-3997-4c14-ad6a-77d5033faf92",
   "metadata": {},
   "outputs": [
    {
     "ename": "SyntaxError",
     "evalue": "invalid character '“' (U+201C) (3425016424.py, line 1)",
     "output_type": "error",
     "traceback": [
      "\u001b[1;36m  Cell \u001b[1;32mIn[2], line 1\u001b[1;36m\u001b[0m\n\u001b[1;33m    print(“你好”)\u001b[0m\n\u001b[1;37m          ^\u001b[0m\n\u001b[1;31mSyntaxError\u001b[0m\u001b[1;31m:\u001b[0m invalid character '“' (U+201C)\n"
     ]
    }
   ],
   "source": [
    "print(“你好”)"
   ]
  },
  {
   "cell_type": "code",
   "execution_count": 3,
   "id": "789cd38c-c886-451e-aecc-e7dcde68659b",
   "metadata": {},
   "outputs": [
    {
     "ename": "SyntaxError",
     "evalue": "unterminated string literal (detected at line 1) (2413934316.py, line 1)",
     "output_type": "error",
     "traceback": [
      "\u001b[1;36m  Cell \u001b[1;32mIn[3], line 1\u001b[1;36m\u001b[0m\n\u001b[1;33m    print(\"I love FishC')\u001b[0m\n\u001b[1;37m          ^\u001b[0m\n\u001b[1;31mSyntaxError\u001b[0m\u001b[1;31m:\u001b[0m unterminated string literal (detected at line 1)\n"
     ]
    }
   ],
   "source": [
    "print(\"I love FishC')"
   ]
  },
  {
   "cell_type": "code",
   "execution_count": 4,
   "id": "78b969df-893a-4de5-9d50-4c80742d3d59",
   "metadata": {},
   "outputs": [
    {
     "ename": "SyntaxError",
     "evalue": "invalid character '（' (U+FF08) (148695116.py, line 1)",
     "output_type": "error",
     "traceback": [
      "\u001b[1;36m  Cell \u001b[1;32mIn[4], line 1\u001b[1;36m\u001b[0m\n\u001b[1;33m    print（\"你好，世界\"）\u001b[0m\n\u001b[1;37m         ^\u001b[0m\n\u001b[1;31mSyntaxError\u001b[0m\u001b[1;31m:\u001b[0m invalid character '（' (U+FF08)\n"
     ]
    }
   ],
   "source": [
    "print（\"你好，世界\"）"
   ]
  },
  {
   "cell_type": "markdown",
   "id": "48a94cde-e6ff-438a-807d-d445c0d8d96d",
   "metadata": {},
   "source": [
    "## 温故知新\n",
    "1、让程序再打印一行文字，比如：“小甲鱼让我快乐！”\n",
    "\n",
    "2、在某行的前面添加一个#号，看看会发生什么？\n",
    "\n",
    "    在Python中，如果在某行代码的前面添加一个#号，该行会变成注释，即该行代码不会被执行。\n",
    "\n",
    "    Python 解释器会忽略以 # 开头的行\n",
    "\n",
    "    注释通常用来解释代码的功能、标记需要修改的地方，或者暂时禁用某些代码。"
   ]
  },
  {
   "cell_type": "code",
   "execution_count": 5,
   "id": "86bbc8a6-ffd3-4ef9-a8f1-8b9e446a3438",
   "metadata": {},
   "outputs": [
    {
     "name": "stdout",
     "output_type": "stream",
     "text": [
      "小甲鱼让我快乐！\n"
     ]
    }
   ],
   "source": [
    "print('小甲鱼让我快乐！')"
   ]
  },
  {
   "cell_type": "code",
   "execution_count": 6,
   "id": "79b1b1d0-9afe-43ca-8316-6551ea7f367a",
   "metadata": {},
   "outputs": [
    {
     "name": "stdout",
     "output_type": "stream",
     "text": [
      "Hello World!\n",
      "你好，世界！\n",
      "I'm a programmer\n",
      "The girl said,\"Learn coding on FishC.\"\n"
     ]
    }
   ],
   "source": [
    "print(\"Hello World!\")\n",
    "print(\"你好，世界！\")\n",
    "#print(\"I love fishC\")\n",
    "print(\"I'm a programmer\")\n",
    "print('The girl said,\"Learn coding on FishC.\"')"
   ]
  },
  {
   "cell_type": "markdown",
   "id": "191fc546-381a-4313-8e39-b116fe1ffaf3",
   "metadata": {},
   "source": [
    "## 注释与#字符\n",
    "1. # 字符在不同领域的称呼和用途\n",
    "   * 美国：称为\"pound sign\"或\"number sign\"。\n",
    "   * 中国：称为\"井号\"或\"井字\"。\n",
    "   * 社交媒体：称为\"hashtag\",用于创建热门话题标签。\n",
    "   * 音乐领域：读作\"sharp\",表示音符升半音。\n",
    "   * 编程语言C#：读作\"C sharp\",是一门由微软开发的编程语言。\n",
    "2. Python中的注释功能\n",
    "   使用 # 进行单行注释：在Python中，# 符号用于添加单行注释。\n",
    "   #后面的内容不会被Python解释器执行，起到解释代码或暂时屏蔽代码的作用。\n",
    "3. 注释的用途\n",
    "   * 提高代码的可读性：帮助自己和他人理解代码的功能和意图。\n",
    "   * 通过注释掉代码，暂时阻止某些代码的执行，方便定位和解决问题。\n",
    "   * 在团队开发中，良好的注释可以促进沟通和协作，避免误解和冲突。"
   ]
  },
  {
   "cell_type": "code",
   "execution_count": 7,
   "id": "326edba9-0512-4fbe-88c7-570f11e1acf3",
   "metadata": {},
   "outputs": [
    {
     "name": "stdout",
     "output_type": "stream",
     "text": [
      "我可以这么写代码。\n",
      "这段代码会被执行\n"
     ]
    }
   ],
   "source": [
    "# 注释可以帮助你更好地阅读程序\n",
    "# 在 # 后面的所有内容都将被Python忽略\n",
    "print(\"我可以这么写代码。\") # 这里的注释不会被解析\n",
    "\n",
    "# 通过注释，我们可以阻止某些代码运行\n",
    "# print(\"这段代码不会被执行。\")\n",
    "\n",
    "print(\"这段代码会被执行\")"
   ]
  },
  {
   "cell_type": "markdown",
   "id": "98f47800-c239-4bba-b488-0efd2b8f38c9",
   "metadata": {},
   "source": [
    "## 总结\n",
    "1. #可以用来写注释，帮助我们解释代码的功能\n",
    "2. 它还能让某些代码暂时失效，这在调试的时候非常有用！！！\n",
    "3. 最重要的，写好注释不仅是为自己，也是为了团队的和谐！"
   ]
  },
  {
   "cell_type": "markdown",
   "id": "4a929519-156d-4f10-aa60-09616e1af03b",
   "metadata": {},
   "source": [
    "## 数学运算符\n",
    "   * \\+ 加法运算符\n",
    "   * \\- 减法运算符\n",
    "   * / 除法运算符\n",
    "   * \\* 乘法运算符\n",
    "   * % 取余运算符（注意，不是百分比的意思）\n",
    "   * < 小于运算符\n",
    "   * \\> 大于运算符\n",
    "   * <= 小于等于运算符\n",
    "   * \\>= 大于等于运算符"
   ]
  },
  {
   "cell_type": "code",
   "execution_count": 1,
   "id": "c8f03f93-12fb-4ec5-a786-f53b8a1c1a1a",
   "metadata": {},
   "outputs": [
    {
     "name": "stdout",
     "output_type": "stream",
     "text": [
      "现在我要开始数我的鸡鸡啦：\n",
      "母鸡 30.0\n",
      "公鸡 97\n",
      "现在我要开始数我的鸡蛋啦：\n",
      "6.75\n",
      "3 + 2 < 5 - 7 是对的吗？\n",
      "False\n",
      "3 + 2 是多少？ 5\n",
      "5 - 7 是多少？ -2\n",
      "这就是为什么显示 false 的原因！\n",
      "让我们继续。\n",
      "左边大于右边吗？ True\n",
      "左边大于或等于右边吗？ True\n",
      "左边小于或等于右边吗？ False\n"
     ]
    }
   ],
   "source": [
    "# 打印一段提示文字表示即将开始计算鸡的数量\n",
    "print(\"现在我要开始数我的鸡鸡啦：\")\n",
    "\n",
    "# 计算母鸡的数量: 25 加上 30 除以 6 的结果, 并打印\n",
    "print(\"母鸡\",25 + 30 / 6)\n",
    "# 计算公鸡的数量: 100 减去（25 乘以 3 再对 4 取模) 的结果并打印\n",
    "print(\"公鸡\",100 - 25 * 3 % 4)\n",
    "\n",
    "# 打印一段提示文字表示即将开始计算鸡蛋的数量\n",
    "print(\"现在我要开始数我的鸡蛋啦：\")\n",
    "\n",
    "# 计算鸡蛋的数量: 3 + 2 + 1 - 5 + (4 对 2 取模) - (1 除以 4) + 6, 并打印\n",
    "print(3 + 2 + 1 - 5 + 4 % 2 - 1 / 4 + 6)\n",
    "\n",
    "# 打印问题，询问逻辑表达式 3 + 2 < 5 - 7 是否成立\n",
    "print(\"3 + 2 < 5 - 7 是对的吗？\")\n",
    "\n",
    "# 计算 3 + 2 < 5 - 7 的真假值，并打印结果哦\n",
    "print( 3 + 2 < 5 - 7)\n",
    "\n",
    "# 打印提示文字，询问 3 + 2 的结果，并计算和打印\n",
    "print(\"3 + 2 是多少？\", 3 + 2)\n",
    "# 打印提示文字，询问 5 - 7 的结果，并计算和打印\n",
    "print(\"5 - 7 是多少？\", 5 - 7)\n",
    "\n",
    "# 打印一句解释，说明为什么上面的逻辑表达式返回的是false\n",
    "print(\"这就是为什么显示 false 的原因！\")\n",
    "\n",
    "# 打印提示，表示继续进行其他计算\n",
    "print(\"让我们继续。\")\n",
    "\n",
    "# 打印问题，询问左边是否大于右边，并计算 5 > -2 的结果\n",
    "print(\"左边大于右边吗？\", 5 > -2)\n",
    "# 打印问题，询问左边是否大于或等于右边，并计算 5 >= -2 的结果\n",
    "print(\"左边大于或等于右边吗？\", 5 >= -2)\n",
    "# 打印问题，询问左边是否小于或等于右边，并计算 5 <= -2 的结果\n",
    "print(\"左边小于或等于右边吗？\", 5 <= -2)"
   ]
  },
  {
   "cell_type": "markdown",
   "id": "8757ce43-8b80-461d-a9cd-0e534e1bc86f",
   "metadata": {},
   "source": [
    "1. 使用刚学的数学运算符，把Python当作计算器来玩一玩吧。"
   ]
  },
  {
   "cell_type": "code",
   "execution_count": 5,
   "id": "f8c06417-9821-4729-b6fc-a9d2db2d6012",
   "metadata": {},
   "outputs": [
    {
     "name": "stdout",
     "output_type": "stream",
     "text": [
      "加法：5 + 3 = 8\n",
      "减法： 10 - 7 = 3\n",
      "乘法：4 * 6 = 24\n",
      "除法：20 / 4 = 5.0\n",
      "除法：7 / 3 = 2.3333333333333335\n"
     ]
    }
   ],
   "source": [
    "# 加法\n",
    "print(\"加法：5 + 3 =\",5 + 3)\n",
    "\n",
    "# 减法\n",
    "print(\"减法： 10 - 7 =\",10 - 7)\n",
    "\n",
    "# 乘法\n",
    "print(\"乘法：4 * 6 =\",4 * 6)\n",
    "\n",
    "#除法\n",
    "print(\"除法：20 / 4 =\",20 / 4)\n",
    "print(\"除法：7 / 3 =\", 7 / 3)"
   ]
  },
  {
   "cell_type": "markdown",
   "id": "c2de7bd8-7755-4f01-8830-3d1b9fa320b2",
   "metadata": {},
   "source": [
    "2. 取整除法和取余"
   ]
  },
  {
   "cell_type": "code",
   "execution_count": 4,
   "id": "12b073f7-1840-435e-95c7-5f072fb86f94",
   "metadata": {},
   "outputs": [
    {
     "name": "stdout",
     "output_type": "stream",
     "text": [
      "取整除：7 // 3 =  2\n",
      "取余数：7 % 3 =  1\n"
     ]
    }
   ],
   "source": [
    "# 取整除（整除结果，去掉小数部分）\n",
    "print(\"取整除：7 // 3 = \",7 // 3)\n",
    "\n",
    "# 取余数（模运算）\n",
    "print(\"取余数：7 % 3 = \", 7 % 3)"
   ]
  },
  {
   "cell_type": "markdown",
   "id": "154dac61-f154-4392-a33e-4e782393210c",
   "metadata": {},
   "source": [
    "3. 幂运算和根号"
   ]
  },
  {
   "cell_type": "code",
   "execution_count": 3,
   "id": "e780662c-d825-4bb3-b497-0b3779cb4341",
   "metadata": {},
   "outputs": [
    {
     "name": "stdout",
     "output_type": "stream",
     "text": [
      "幂运算：2 ** 3 = 8\n",
      "平方根：9 ** 0.5 = 3.0\n"
     ]
    }
   ],
   "source": [
    "# 幂运算（2 的 3 次方）\n",
    "print(\"幂运算：2 ** 3 =\",2 ** 3)\n",
    "\n",
    "# 平方根（通过幂运算实现 9 的平方根）\n",
    "print(\"平方根：9 ** 0.5 =\",9 ** 0.5)"
   ]
  },
  {
   "cell_type": "markdown",
   "id": "b99a8670-6103-4c52-a18a-2f95118824b0",
   "metadata": {},
   "source": [
    "4. 复杂表达式"
   ]
  },
  {
   "cell_type": "code",
   "execution_count": 6,
   "id": "f97edff0-ec38-4675-b52a-8ad4a135be0a",
   "metadata": {},
   "outputs": [
    {
     "name": "stdout",
     "output_type": "stream",
     "text": [
      "复杂表达式：(3 + 5) * 2 = 16\n",
      "复杂表达式：5 + 2 ** 3 * 2 = 21\n"
     ]
    }
   ],
   "source": [
    "# 混合运算，优先级：括号 > 幂 > 乘/除/取模 > 加减\n",
    "print(\"复杂表达式：(3 + 5) * 2 =\",(3 + 5) * 2)\n",
    "print(\"复杂表达式：5 + 2 ** 3 * 2 =\", 5 + 2 ** 3 * 2)"
   ]
  },
  {
   "cell_type": "markdown",
   "id": "21974156-76ea-42e1-8c88-73bd9bc53f3d",
   "metadata": {},
   "source": [
    "5. 浮点数运算"
   ]
  },
  {
   "cell_type": "code",
   "execution_count": 8,
   "id": "24ac0e62-b13a-481e-a992-3f3df9cc7c33",
   "metadata": {},
   "outputs": [
    {
     "name": "stdout",
     "output_type": "stream",
     "text": [
      "浮点数加法：0.1 + 0.6 = 0.7\n",
      "浮点数乘法：1.5 * 3.2 =  4.800000000000001\n",
      "精度问题：0.1 + 0.2 = 0.30000000000000004\n"
     ]
    }
   ],
   "source": [
    "# 浮点数加减乘除\n",
    "print(\"浮点数加法：0.1 + 0.6 =\",0.1 + 0.6)\n",
    "print(\"浮点数乘法：1.5 * 3.2 = \",1.5 * 3.2)\n",
    "\n",
    "# 注意浮点数精度问题（如 0.1 + 0.2 不等于 0.3）\n",
    "print(\"精度问题：0.1 + 0.2 =\",0.1 + 0.2)"
   ]
  },
  {
   "cell_type": "markdown",
   "id": "1eb3abff-c4e9-4612-8167-7735255cf164",
   "metadata": {},
   "source": [
    "6. 逻辑比较运算"
   ]
  },
  {
   "cell_type": "code",
   "execution_count": 10,
   "id": "cafbee5b-a42f-4e50-98bb-94005e50a5c1",
   "metadata": {},
   "outputs": [
    {
     "name": "stdout",
     "output_type": "stream",
     "text": [
      "5 > 3 = True\n",
      "5 < 3 = False\n",
      "5 >= 5 = True\n",
      "5 <= 4 = False\n",
      "5 == 5 = True\n",
      "5 != 3 = True\n"
     ]
    }
   ],
   "source": [
    "# 大于、小于、大于等于、小于等于、等于、不等于\n",
    "print(\"5 > 3 =\",5 > 3)   # True\n",
    "print(\"5 < 3 =\",5 < 3)   # False\n",
    "print(\"5 >= 5 =\",5 >= 5) # True\n",
    "print(\"5 <= 4 =\",5 <= 4) # False\n",
    "print(\"5 == 5 =\",5 == 5) # True\n",
    "print(\"5 != 3 =\",5 != 3) # True"
   ]
  },
  {
   "cell_type": "markdown",
   "id": "e21679e2-38f8-4a60-b778-9583080a251b",
   "metadata": {},
   "source": [
    "### 找一个你想计算的内容，写一个新的.py文件并计算出结果。\n",
    "\n",
    "在 Jupyter-Lab 中执行python源文件的方法如下：\n",
    "* 点击左上角的\"+\",选择\"python File\"创建新文件。\n",
    "* 编写代码后，使用Ctrl + S 快捷键保存文件，给源文件命名（例如test.py）。\n",
    "* 在左侧文件管理器中查看新创建的文件。\n",
    "* 点击\"+\",选择\"Terminal\"打开终端界面。\n",
    "* 在终端中输入python test.py执行python源文件。"
   ]
  },
  {
   "cell_type": "markdown",
   "id": "9eb5c661-697d-4e5c-adac-cb1b4239b32e",
   "metadata": {},
   "source": [
    "## 变量与命名\n",
    "1. 变量\n",
    "   \n",
    "   在编程中，变量是用来指代某个事物的名称。\n",
    "\n",
    "   变量名就像是某个事物的标签，就像\"小甲鱼\"这个名字是表示\"翻译这本书的人\"一样。\n",
    "\n",
    "   通过使用变量名，可以使得代码更接近自然语言。"
   ]
  },
  {
   "cell_type": "code",
   "execution_count": 13,
   "id": "e0ff3c2f-fc64-4ddd-b5ae-75374299ca82",
   "metadata": {},
   "outputs": [
    {
     "name": "stdout",
     "output_type": "stream",
     "text": [
      "这里有 100 辆小汽车。\n",
      "这里有 30 位司机。\n",
      "那么今天就会有 70 辆车没有司机。\n",
      "我们今天可以运送 120 名乘客。\n",
      "我们今天总共有 90 名乘客。\n",
      "我们需要在每辆车中安排 3.0 名乘客。\n"
     ]
    }
   ],
   "source": [
    "# 变量 cars，用于记录小汽车的数量设定为 100 辆。\n",
    "cars = 100\n",
    "# 变量 space_in_a_car，用于记录每辆车的载客容量，设定为 4 人。\n",
    "space_in_a_car = 4\n",
    "# 变量 drivers，用于记录司机的数量，设定为 30 人。\n",
    "drivers = 30\n",
    "# 变量passengers，用于记录乘客的数量，设定为 90 人。\n",
    "passengers = 90\n",
    "# 计算没有司机驾驶的车辆数，将结果赋值给变量cars_not_driven\n",
    "cars_not_driven = cars - drivers\n",
    "# 表示实际被驾驶的车辆数，因为每辆车需要一个司机，所以等于司机数量\n",
    "cars_driven = drivers \n",
    "# 计算所有可驾驶车辆的总载客容量，将结果赋值给变量carpool_capacity\n",
    "carpool_capacity = cars_driven * space_in_a_car\n",
    "# 计算每辆车需要安排的平均乘客数将结果赋值给变量average_passengers_per_car\n",
    "average_passengers_per_car = passengers / cars_driven\n",
    "\n",
    "print(\"这里有\",cars,\"辆小汽车。\")\n",
    "print(\"这里有\", drivers,\"位司机。\")\n",
    "print(\"那么今天就会有\",cars_not_driven,\"辆车没有司机。\")\n",
    "print(\"我们今天可以运送\",carpool_capacity,\"名乘客。\")\n",
    "print(\"我们今天总共有\", passengers,\"名乘客。\")\n",
    "print(\"我们需要在每辆车中安排\",average_passengers_per_car,\"名乘客。\")"
   ]
  },
  {
   "cell_type": "markdown",
   "id": "43b7dd29-5206-4cff-931a-1f3d05d3a229",
   "metadata": {},
   "source": [
    "### 格式化字符串\n",
    "要在字符串中嵌入变量的值，我们需要使用一对花括号{},并将变量名放在花括号内。并且，我们的字符串需要以字母 f 来开头。\n",
    "\n",
    "f 代表 “格式化”（format），通过这样的组合，就相当于告诉 Python：“这是一个格式化字符串，把这些指定变量的值放到字符串中。”"
   ]
  },
  {
   "cell_type": "code",
   "execution_count": 15,
   "id": "d61996fc-eeb5-42ec-b48f-0621cf6c29d7",
   "metadata": {},
   "outputs": [
    {
     "name": "stdout",
     "output_type": "stream",
     "text": [
      "让我们来谈谈Zed A. Shaw。\n",
      "他的身高是74英寸。\n",
      "他的体重是180磅。\n",
      "实际上并不算太重。\n",
      "他的眼睛是 蓝色 的，他的头发是 棕色 的。\n",
      "他的牙齿通常是 白色 的，这取决于他喝了多少咖啡。\n",
      "如果我把35、74、180加起来，我会得到289。\n"
     ]
    }
   ],
   "source": [
    "my_name = 'Zed A. Shaw'\n",
    "my_age = 35 # 真的，没骗你\n",
    "my_height = 74 # 英寸\n",
    "my_weight = 180 # 磅\n",
    "my_eyes = '蓝色'\n",
    "my_teeth = '白色'\n",
    "my_hair = '棕色'\n",
    "\n",
    "print(f\"让我们来谈谈{my_name}。\")\n",
    "print(f\"他的身高是{my_height}英寸。\")\n",
    "print(f\"他的体重是{my_weight}磅。\")\n",
    "print(f\"实际上并不算太重。\")\n",
    "print(f\"他的眼睛是 {my_eyes} 的，他的头发是 {my_hair} 的。\")\n",
    "print(f\"他的牙齿通常是 {my_teeth} 的，这取决于他喝了多少咖啡。\")\n",
    "\n",
    "# 下面这一行代码比较难，请尝试理解它\n",
    "total = my_age + my_height + my_weight\n",
    "print(f\"如果我把{my_age}、{my_height}、{my_weight}加起来，我会得到{total}。\")"
   ]
  },
  {
   "cell_type": "markdown",
   "id": "95b0c9e7-3847-4ea9-8f63-f8b414121416",
   "metadata": {},
   "source": [
    "### 格式化字符串\n",
    "\n",
    "在上一节习题中，我们还介绍了格式化字符串，由于字符串前面有一个f字符，因此也称为\"f-string\"，它的语法形式是这样的：\n",
    "\n",
    "f\"这里有一些内容{一个可用的变量}\"\n",
    "\n",
    "f\"这里还有一些内容{另一个可用的变量}\"\n",
    "\n",
    "除此之外，Python还有另一种格式化字符串的方法，就是使用.format()语法：\n",
    "\n",
    "\"字符串{占位符}\".format(参数)\n",
    "\n",
    "占位符是用大括号{}表示的，.format()会将其替换为指定的参数值。"
   ]
  },
  {
   "cell_type": "code",
   "execution_count": 1,
   "id": "f9260f2e-4552-438b-88e8-4f1dd26b8e50",
   "metadata": {},
   "outputs": [
    {
     "name": "stdout",
     "output_type": "stream",
     "text": [
      "这世界有10种人。\n",
      "那些懂二进制和那些不懂的人。\n",
      "我说过：这世界有10种人。\n",
      "我还说过：那些懂二进制和那些不懂的人。\n",
      "这个笑话好笑吗！False\n",
      "这是字符串的左边这是字符串的右边\n"
     ]
    }
   ],
   "source": [
    "# 定义一个变量,表示有多少种类型的人(赋值为10)\n",
    "types_of_people = 10\n",
    "# 使用 f 字符串格式化,将变量 types_of_peole 插入到字符串中\n",
    "x = f\"这世界有{types_of_people}种人。\"\n",
    "\n",
    "# 定义两个字符串变量,分别是 \"二进制\" 和 \"不懂\"\n",
    "binary = \"二进制\"\n",
    "do_not = '不懂'\n",
    "\n",
    "# 使用 f 字符串格式化,将变量 binary 和 do_not 插入到字符串中\n",
    "y = f\"那些懂{binary}和那些{do_not}的人。\"\n",
    "\n",
    "# 输出变量 x 的内容\n",
    "print(x)\n",
    "\n",
    "# 输出变量 y 的内容\n",
    "print(y)\n",
    "\n",
    "# 使用 f 字符串格式化,将变量 x 插入到字符串中并输出\n",
    "print(f\"我说过：{x}\")\n",
    "\n",
    "# 同样使用 f 字符串格式化,将变量 y 插入到字符串中并输出\n",
    "print(f\"我还说过：{y}\")\n",
    "\n",
    "# 定义一个布尔变量,表示笑话是否好笑(赋值为 False)\n",
    "hilarious = False\n",
    "\n",
    "# 定义一个字符串模板,其中包含一个占位符 {}\n",
    "joke_evaluation = \"这个笑话好笑吗！{}\"\n",
    "\n",
    "# 使用 format 方法，将变量 hilarious 的值插入到占位符中并输出\n",
    "print(joke_evaluation.format(hilarious))\n",
    "\n",
    "# 定义两个字符串变量，分别表示字符串的左部分和右部分\n",
    "w = '这是字符串的左边'\n",
    "e = '这是字符串的右边'\n",
    "\n",
    "# 将两个字符串通过加号连接起来并输出\n",
    "print(w + e)"
   ]
  },
  {
   "cell_type": "code",
   "execution_count": null,
   "id": "aa4b225a-af59-4379-8f6e-83129f9d0e44",
   "metadata": {},
   "outputs": [],
   "source": []
  }
 ],
 "metadata": {
  "kernelspec": {
   "display_name": "Python 3 (ipykernel)",
   "language": "python",
   "name": "python3"
  },
  "language_info": {
   "codemirror_mode": {
    "name": "ipython",
    "version": 3
   },
   "file_extension": ".py",
   "mimetype": "text/x-python",
   "name": "python",
   "nbconvert_exporter": "python",
   "pygments_lexer": "ipython3",
   "version": "3.12.7"
  }
 },
 "nbformat": 4,
 "nbformat_minor": 5
}
